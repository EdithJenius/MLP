version https://git-lfs.github.com/spec/v1
oid sha256:68776192799e7caa61e4c40ef553f320ee7298f67e8d6bcf8fcb601ca2b66e1f
size 103564
